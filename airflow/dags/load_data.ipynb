{
 "cells": [
  {
   "cell_type": "code",
   "execution_count": 1,
   "id": "c647b536",
   "metadata": {},
   "outputs": [],
   "source": [
    "import pandas as pd\n",
    "from sklearn import datasets\n",
    "import numpy as np\n",
    "from sklearn.model_selection import train_test_split\n",
    "from sklearn.ensemble import RandomForestClassifier\n",
    "from sklearn.metrics import confusion_matrix \n",
    "from sklearn.metrics import accuracy_score\n",
    "from sklearn import metrics\n",
    "from sklearn.metrics import mean_squared_error, r2_score\n",
    "import pickle"
   ]
  },
  {
   "cell_type": "code",
   "execution_count": 2,
   "id": "29d3f3e9",
   "metadata": {},
   "outputs": [
    {
     "name": "stdout",
     "output_type": "stream",
     "text": [
      "(100000, 100)\n"
     ]
    }
   ],
   "source": [
    "df = pd.read_csv(r'dataset.csv', on_bad_lines='skip', delimiter=';', low_memory = False, decimal = \",\")\n",
    "\n",
    "# print(df.head(5))\n",
    "print(df.shape) # dimensiones de la tabla de datos\n",
    "\n",
    "# tipología variables\n",
    "\n",
    "df[\"churn\"] = df[\"churn\"].astype(\"bool\") # object, int64\n",
    "#df[df.columns[52:54]] = df[df.columns[52:54]].astype(\"string\")\n",
    "#df[df.columns[54]] = df[df.columns[54]].astype(\"factor\")\n",
    "df = df.drop([\"Customer_ID\"], axis=1)\n"
   ]
  },
  {
   "cell_type": "code",
   "execution_count": 3,
   "id": "99706587",
   "metadata": {},
   "outputs": [
    {
     "name": "stdout",
     "output_type": "stream",
     "text": [
      "(100000, 84)\n"
     ]
    }
   ],
   "source": [
    "df = df.drop(columns=['area','prizm_social_one','dualband','refurb_new','hnd_webcap','infobase','HHstatin','dwllsize','ethnic',\n",
    "                        'kid0_2','kid3_5','kid6_10','kid11_15','kid16_17','creditcd'])\n",
    "\n",
    "print(df.shape)"
   ]
  },
  {
   "cell_type": "code",
   "execution_count": 4,
   "id": "3927b3c6",
   "metadata": {},
   "outputs": [
    {
     "name": "stdout",
     "output_type": "stream",
     "text": [
      "(41830, 84)\n"
     ]
    }
   ],
   "source": [
    "# eliminamos nans\n",
    "df = df.dropna()\n",
    "print(df.shape)\n",
    "\n",
    "# identificar outliers\n",
    "\n",
    "# def find_outliers_IQR(df):\n",
    "#   q1 = df.quantile(0.25)\n",
    "#   q3 = df.quantile(0.75)\n",
    "#     IQR = q3-q1\n",
    "#  outliers = df[((df<(q1-1.5*IQR)) | (df>(q3+1.5*IQR)))]\n",
    "#   return outliers\n",
    "\n",
    "# df.loc[find_outliers_IQR(df).index,:]\n"
   ]
  },
  {
   "cell_type": "code",
   "execution_count": 5,
   "id": "00abf16a",
   "metadata": {},
   "outputs": [],
   "source": [
    "# dummy\n",
    "var_x_dummy = ['new_cell','crclscod','asl_flag','ownrent','dwlltype','marital']\n",
    "df = pd.get_dummies(df, columns = var_x_dummy)"
   ]
  },
  {
   "cell_type": "code",
   "execution_count": 6,
   "id": "29a2fd0b",
   "metadata": {},
   "outputs": [
    {
     "name": "stdout",
     "output_type": "stream",
     "text": [
      "False    21378\n",
      "True     20452\n",
      "Name: churn, dtype: int64\n"
     ]
    }
   ],
   "source": [
    "# balanceo\n",
    "print(df.churn.value_counts())"
   ]
  },
  {
   "cell_type": "code",
   "execution_count": 7,
   "id": "d4a47ee8",
   "metadata": {},
   "outputs": [
    {
     "name": "stdout",
     "output_type": "stream",
     "text": [
      "<class 'pandas.core.frame.DataFrame'>\n",
      "Int64Index: 41830 entries, 0 to 99993\n",
      "Columns: 141 entries, rev_Mean to marital_U\n",
      "dtypes: bool(1), float64(69), int64(8), uint8(63)\n",
      "memory usage: 27.4 MB\n",
      "(41830, 141)\n"
     ]
    }
   ],
   "source": [
    "df.info()\n",
    "print(df.shape)"
   ]
  },
  {
   "cell_type": "code",
   "execution_count": 11,
   "id": "c19c4ac9",
   "metadata": {},
   "outputs": [
    {
     "name": "stdout",
     "output_type": "stream",
     "text": [
      "Estructura de datos de entrenamiento...  (29280, 140)\n",
      "       rev_Mean  mou_Mean  totmrc_Mean  da_Mean  ovrmou_Mean  ovrrev_Mean  \\\n",
      "43705   68.4400    924.75      59.9900   1.7325        53.25      15.9750   \n",
      "80928   41.7225    123.75      49.9900   1.7325         0.00       0.0000   \n",
      "79536   31.7225    181.00      39.9900   1.7325         0.00       0.0000   \n",
      "63404   33.1400     15.75      39.9900   0.0000         0.00       0.0000   \n",
      "50251   33.3650    720.25      10.0000   0.9900        85.25      21.3125   \n",
      "...         ...       ...          ...      ...          ...          ...   \n",
      "25455   22.5300     71.50      22.4925   0.0000         0.00       0.0000   \n",
      "22168   17.6075     23.00      16.9900   0.0000         1.25       0.4625   \n",
      "19088   38.7425    523.00      44.9900   0.0000         0.00       0.0000   \n",
      "7846    12.8125     37.75      10.0000   0.0000         0.00       0.0000   \n",
      "50190   31.8850    162.00      29.9900   0.4950         4.00       1.4000   \n",
      "\n",
      "       vceovr_Mean  datovr_Mean  roam_Mean  change_mou  ...  asl_flag_Y  \\\n",
      "43705      15.9750          0.0     0.2925      150.25  ...           0   \n",
      "80928       0.0000          0.0     0.0000       91.25  ...           0   \n",
      "79536       0.0000          0.0     0.0000       -9.00  ...           0   \n",
      "63404       0.0000          0.0     2.8800       39.25  ...           0   \n",
      "50251      21.3125          0.0     0.0000     -176.25  ...           0   \n",
      "...            ...          ...        ...         ...  ...         ...   \n",
      "25455       0.0000          0.0     0.0000      -30.50  ...           0   \n",
      "22168       0.4625          0.0     0.0000       12.00  ...           0   \n",
      "19088       0.0000          0.0     3.7525      254.00  ...           0   \n",
      "7846        0.0000          0.0     0.0000       22.25  ...           0   \n",
      "50190       1.4000          0.0     0.0000       75.00  ...           0   \n",
      "\n",
      "       ownrent_O  ownrent_R  dwlltype_M  dwlltype_S  marital_A  marital_B  \\\n",
      "43705          1          0           0           1          0          0   \n",
      "80928          1          0           0           1          1          0   \n",
      "79536          1          0           0           1          0          0   \n",
      "63404          1          0           0           1          0          0   \n",
      "50251          1          0           0           1          0          0   \n",
      "...          ...        ...         ...         ...        ...        ...   \n",
      "25455          1          0           0           1          1          0   \n",
      "22168          1          0           0           1          0          0   \n",
      "19088          1          0           0           1          0          0   \n",
      "7846           1          0           0           1          0          0   \n",
      "50190          1          0           0           1          0          0   \n",
      "\n",
      "       marital_M  marital_S  marital_U  \n",
      "43705          1          0          0  \n",
      "80928          0          0          0  \n",
      "79536          0          1          0  \n",
      "63404          0          0          1  \n",
      "50251          1          0          0  \n",
      "...          ...        ...        ...  \n",
      "25455          0          0          0  \n",
      "22168          1          0          0  \n",
      "19088          1          0          0  \n",
      "7846           0          1          0  \n",
      "50190          1          0          0  \n",
      "\n",
      "[12550 rows x 140 columns]\n"
     ]
    }
   ],
   "source": [
    "X_entrena, X_valida, Y_entrena, Y_valida = train_test_split(df.drop(columns = \"churn\"), df['churn'],train_size=.70)\n",
    "print(\"Estructura de datos de entrenamiento... \", X_entrena.shape)\n"
   ]
  },
  {
   "cell_type": "code",
   "execution_count": 9,
   "id": "7e9903e4",
   "metadata": {},
   "outputs": [
    {
     "data": {
      "text/html": [
       "<style>#sk-container-id-1 {color: black;background-color: white;}#sk-container-id-1 pre{padding: 0;}#sk-container-id-1 div.sk-toggleable {background-color: white;}#sk-container-id-1 label.sk-toggleable__label {cursor: pointer;display: block;width: 100%;margin-bottom: 0;padding: 0.3em;box-sizing: border-box;text-align: center;}#sk-container-id-1 label.sk-toggleable__label-arrow:before {content: \"▸\";float: left;margin-right: 0.25em;color: #696969;}#sk-container-id-1 label.sk-toggleable__label-arrow:hover:before {color: black;}#sk-container-id-1 div.sk-estimator:hover label.sk-toggleable__label-arrow:before {color: black;}#sk-container-id-1 div.sk-toggleable__content {max-height: 0;max-width: 0;overflow: hidden;text-align: left;background-color: #f0f8ff;}#sk-container-id-1 div.sk-toggleable__content pre {margin: 0.2em;color: black;border-radius: 0.25em;background-color: #f0f8ff;}#sk-container-id-1 input.sk-toggleable__control:checked~div.sk-toggleable__content {max-height: 200px;max-width: 100%;overflow: auto;}#sk-container-id-1 input.sk-toggleable__control:checked~label.sk-toggleable__label-arrow:before {content: \"▾\";}#sk-container-id-1 div.sk-estimator input.sk-toggleable__control:checked~label.sk-toggleable__label {background-color: #d4ebff;}#sk-container-id-1 div.sk-label input.sk-toggleable__control:checked~label.sk-toggleable__label {background-color: #d4ebff;}#sk-container-id-1 input.sk-hidden--visually {border: 0;clip: rect(1px 1px 1px 1px);clip: rect(1px, 1px, 1px, 1px);height: 1px;margin: -1px;overflow: hidden;padding: 0;position: absolute;width: 1px;}#sk-container-id-1 div.sk-estimator {font-family: monospace;background-color: #f0f8ff;border: 1px dotted black;border-radius: 0.25em;box-sizing: border-box;margin-bottom: 0.5em;}#sk-container-id-1 div.sk-estimator:hover {background-color: #d4ebff;}#sk-container-id-1 div.sk-parallel-item::after {content: \"\";width: 100%;border-bottom: 1px solid gray;flex-grow: 1;}#sk-container-id-1 div.sk-label:hover label.sk-toggleable__label {background-color: #d4ebff;}#sk-container-id-1 div.sk-serial::before {content: \"\";position: absolute;border-left: 1px solid gray;box-sizing: border-box;top: 0;bottom: 0;left: 50%;z-index: 0;}#sk-container-id-1 div.sk-serial {display: flex;flex-direction: column;align-items: center;background-color: white;padding-right: 0.2em;padding-left: 0.2em;position: relative;}#sk-container-id-1 div.sk-item {position: relative;z-index: 1;}#sk-container-id-1 div.sk-parallel {display: flex;align-items: stretch;justify-content: center;background-color: white;position: relative;}#sk-container-id-1 div.sk-item::before, #sk-container-id-1 div.sk-parallel-item::before {content: \"\";position: absolute;border-left: 1px solid gray;box-sizing: border-box;top: 0;bottom: 0;left: 50%;z-index: -1;}#sk-container-id-1 div.sk-parallel-item {display: flex;flex-direction: column;z-index: 1;position: relative;background-color: white;}#sk-container-id-1 div.sk-parallel-item:first-child::after {align-self: flex-end;width: 50%;}#sk-container-id-1 div.sk-parallel-item:last-child::after {align-self: flex-start;width: 50%;}#sk-container-id-1 div.sk-parallel-item:only-child::after {width: 0;}#sk-container-id-1 div.sk-dashed-wrapped {border: 1px dashed gray;margin: 0 0.4em 0.5em 0.4em;box-sizing: border-box;padding-bottom: 0.4em;background-color: white;}#sk-container-id-1 div.sk-label label {font-family: monospace;font-weight: bold;display: inline-block;line-height: 1.2em;}#sk-container-id-1 div.sk-label-container {text-align: center;}#sk-container-id-1 div.sk-container {/* jupyter's `normalize.less` sets `[hidden] { display: none; }` but bootstrap.min.css set `[hidden] { display: none !important; }` so we also need the `!important` here to be able to override the default hidden behavior on the sphinx rendered scikit-learn.org. See: https://github.com/scikit-learn/scikit-learn/issues/21755 */display: inline-block !important;position: relative;}#sk-container-id-1 div.sk-text-repr-fallback {display: none;}</style><div id=\"sk-container-id-1\" class=\"sk-top-container\"><div class=\"sk-text-repr-fallback\"><pre>RandomForestClassifier(n_estimators=150)</pre><b>In a Jupyter environment, please rerun this cell to show the HTML representation or trust the notebook. <br />On GitHub, the HTML representation is unable to render, please try loading this page with nbviewer.org.</b></div><div class=\"sk-container\" hidden><div class=\"sk-item\"><div class=\"sk-estimator sk-toggleable\"><input class=\"sk-toggleable__control sk-hidden--visually\" id=\"sk-estimator-id-1\" type=\"checkbox\" checked><label for=\"sk-estimator-id-1\" class=\"sk-toggleable__label sk-toggleable__label-arrow\">RandomForestClassifier</label><div class=\"sk-toggleable__content\"><pre>RandomForestClassifier(n_estimators=150)</pre></div></div></div></div></div>"
      ],
      "text/plain": [
       "RandomForestClassifier(n_estimators=150)"
      ]
     },
     "execution_count": 9,
     "metadata": {},
     "output_type": "execute_result"
    }
   ],
   "source": [
    "model_rf = RandomForestClassifier(n_estimators = 150)\n",
    "model_rf.fit(X_entrena, Y_entrena)"
   ]
  },
  {
   "cell_type": "code",
   "execution_count": 10,
   "id": "15e771a9",
   "metadata": {},
   "outputs": [],
   "source": [
    "# Almacenar modelo en pickle\n",
    "\n",
    "pickle.dump(model_rf, open('trading_model.p', 'wb'))"
   ]
  },
  {
   "cell_type": "code",
   "execution_count": 45,
   "id": "347a0ec4",
   "metadata": {},
   "outputs": [],
   "source": [
    "loaded_model = pickle.load(open('trading_model.p', 'rb'))\n",
    "predicciones = loaded_model.predict(X_valida)"
   ]
  },
  {
   "cell_type": "code",
   "execution_count": 46,
   "id": "51dcd246",
   "metadata": {},
   "outputs": [
    {
     "name": "stdout",
     "output_type": "stream",
     "text": [
      "       churn  Predicho\n",
      "39470  False      True\n",
      "41149   True     False\n",
      "46304   True     False\n",
      "54263   True      True\n",
      "42050  False     False\n",
      "...      ...       ...\n",
      "7094   False     False\n",
      "27287   True      True\n",
      "70649  False     False\n",
      "80745  False     False\n",
      "69502  False     False\n",
      "\n",
      "[12550 rows x 2 columns]\n"
     ]
    }
   ],
   "source": [
    "comparaciones = pd.DataFrame(Y_valida)\n",
    "# comparaciones = comparaciones.assign(Sales_Real = Y_valida)\n",
    "comparaciones = comparaciones.assign(Predicho = predicciones.flatten().tolist())\n",
    "print(comparaciones)"
   ]
  },
  {
   "cell_type": "code",
   "execution_count": 49,
   "id": "5c7b260e",
   "metadata": {},
   "outputs": [
    {
     "name": "stdout",
     "output_type": "stream",
     "text": [
      "Matriz de confusión\n",
      "-------------------\n",
      "[[4090 2357]\n",
      " [2479 3624]]\n",
      "\n",
      "El accuracy de test es: 61.46613545816733 %\n"
     ]
    }
   ],
   "source": [
    "mat_confusion = confusion_matrix(\n",
    "                    y_true    = Y_valida,\n",
    "                    y_pred    = predicciones\n",
    "                )\n",
    "\n",
    "accuracy = accuracy_score(\n",
    "            y_true    = Y_valida,\n",
    "            y_pred    = predicciones,\n",
    "            normalize = True\n",
    "           )\n",
    "\n",
    "print(\"Matriz de confusión\")\n",
    "print(\"-------------------\")\n",
    "print(mat_confusion)\n",
    "print(\"\")\n",
    "print(f\"El accuracy de test es: {100 * accuracy} %\")"
   ]
  },
  {
   "cell_type": "code",
   "execution_count": null,
   "id": "c8b70f30",
   "metadata": {},
   "outputs": [],
   "source": [
    "# balanceo = True\n",
    "# tipo_balanceo = 1\n",
    "\n",
    "# if balanceo:\n",
    "#     X_dum = X.copy()\n",
    "#     idx = X.index\n",
    "#     X_dum['idx'] = idx\n",
    "#     X_dum.head()\n",
    "# \n",
    "#    Y_dum = y.copy()\n",
    "\n",
    "    # Balanceos\n",
    "#     from imblearn.under_sampling import RandomUnderSampler\n",
    "#     from imblearn.over_sampling import RandomOverSampler\n",
    "#     from imblearn.over_sampling import SMOTE\n",
    "#     from imblearn.combine import SMOTEENN\n",
    "#     from imblearn.combine import SMOTETomek"
   ]
  }
 ],
 "metadata": {
  "kernelspec": {
   "display_name": "Python 3",
   "language": "python",
   "name": "python3"
  },
  "language_info": {
   "codemirror_mode": {
    "name": "ipython",
    "version": 3
   },
   "file_extension": ".py",
   "mimetype": "text/x-python",
   "name": "python",
   "nbconvert_exporter": "python",
   "pygments_lexer": "ipython3",
   "version": "3.11.1"
  },
  "vscode": {
   "interpreter": {
    "hash": "aee8b7b246df8f9039afb4144a1f6fd8d2ca17a180786b69acc140d282b71a49"
   }
  }
 },
 "nbformat": 4,
 "nbformat_minor": 5
}
